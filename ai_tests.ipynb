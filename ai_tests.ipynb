{
  "nbformat": 4,
  "nbformat_minor": 0,
  "metadata": {
    "colab": {
      "provenance": [],
      "authorship_tag": "ABX9TyNqD0/CdGlCn5blnNrPGG8G",
      "include_colab_link": true
    },
    "kernelspec": {
      "name": "python3",
      "display_name": "Python 3"
    },
    "language_info": {
      "name": "python"
    }
  },
  "cells": [
    {
      "cell_type": "markdown",
      "metadata": {
        "id": "view-in-github",
        "colab_type": "text"
      },
      "source": [
        "<a href=\"https://colab.research.google.com/github/CCathlete/text-explorer/blob/main/ai_tests.ipynb\" target=\"_parent\"><img src=\"https://colab.research.google.com/assets/colab-badge.svg\" alt=\"Open In Colab\"/></a>"
      ]
    },
    {
      "cell_type": "code",
      "source": [
        "!git clone https://github.com/CCathlete/text-explorer.git"
      ],
      "metadata": {
        "colab": {
          "base_uri": "https://localhost:8080/"
        },
        "id": "XBeAqtA8rzcl",
        "outputId": "46929d20-3227-4d6c-ea1e-e60acacf3b52"
      },
      "execution_count": 1,
      "outputs": [
        {
          "output_type": "stream",
          "name": "stdout",
          "text": [
            "Cloning into 'text-explorer'...\n",
            "remote: Enumerating objects: 31, done.\u001b[K\n",
            "remote: Counting objects: 100% (31/31), done.\u001b[K\n",
            "remote: Compressing objects: 100% (26/26), done.\u001b[K\n",
            "remote: Total 31 (delta 9), reused 26 (delta 4), pack-reused 0\u001b[K\n",
            "Receiving objects: 100% (31/31), 1.24 MiB | 3.21 MiB/s, done.\n",
            "Resolving deltas: 100% (9/9), done.\n"
          ]
        }
      ]
    },
    {
      "cell_type": "code",
      "execution_count": null,
      "metadata": {
        "id": "k2jWQ4G8qqmc"
      },
      "outputs": [],
      "source": [
        "from flask import Flask, request, jsonify\n",
        "from transformers import pipeline\n",
        "from LocalParser.Parser import Parser\n",
        "import numpy as np\n",
        "\n",
        "app = Flask(__name__)\n",
        "myParser = Parser()\n",
        "\n",
        "# Loading the models using pipeline.\n",
        "bioRobertaQA = pipeline(task='question-answering', model='allenai/biomed_roberta_base')\n",
        "# bertQa = pipeline(task='question-answering', model='distilbert-base-uncased-distilled-squad')\n",
        "# robertaQa = pipeline(task='question-answering', model='deepset/roberta-base-squad2')\n",
        "# t5Qa = pipeline(task='question-answering', model='valhalla/t5-small-qa-qg-hl')\n",
        "\n",
        "@app.route('/ask', methods=['POST'])\n",
        "def askQuestion():\n",
        "    data = request.get_json()\n",
        "    question = data['question']\n",
        "    context = myParser.book\n",
        "\n",
        "    # Getting answers from the modules.\n",
        "    print(\"\\nAsking bio roberta your question.\\n\")\n",
        "    bioRobertaAnswer = bioRobertaQA(question=question, context=context)\n",
        "    bioRobertaAnswerSerialisable = {k: makeSerialiseable(v) for k,v in bioRobertaAnswer.items()}\n",
        "    # bertAnswer = bertQa(question=question, context=context)\n",
        "    # robertaAnswer = robertaQa(question=question, context=context)\n",
        "    # t5Answer = t5Qa(question=question, context=context)\n",
        "\n",
        "    # Combining the answers. TODO: choose the best one with some logic.\n",
        "    print(\"\\nWe have an answer:\\n\")\n",
        "    combinedAnswers = {\n",
        "        'bioRoberta': bioRobertaAnswerSerialisable,\n",
        "        # 'bert': bertAnswer,\n",
        "        # 'roberta': robertaAnswer,\n",
        "        # 't5': t5Answer\n",
        "    }\n",
        "\n",
        "    return jsonify(combinedAnswers)\n",
        "\n",
        "def makeSerialiseable(obj):\n",
        "    \"\"\"Gets an unknown object and makes sure it can be printed in a JSON.\n",
        "\n",
        "    Args:\n",
        "        obj (any): the output of the ai model.\n",
        "\n",
        "    Returns:\n",
        "        dict|list|str|int|float|bool: an object witih a printable type.\n",
        "    \"\"\"\n",
        "    if isinstance(obj, np.ndarray):\n",
        "        return obj.tolist() # Converting a numpy array to list.\n",
        "    elif isinstance(obj,(np.int64, np.int32)):\n",
        "        return int(obj) # Convertinr numpy ints to standard Python int.\n",
        "    elif isinstance(obj, (np.float64, np.float32)):\n",
        "        return float(obj) # Convertinr numpy floats to standard Python float.\n",
        "    elif isinstance(obj, (dict, list, str, int, float, bool, type(None))):\n",
        "        return obj # If it's already serialisable we just return it.\n",
        "    else:\n",
        "        return str(obj) # A fallback in case it's a custom object.\n",
        "\n",
        "\n",
        "\n",
        "\n",
        "\n",
        "if __name__ == '__main__':\n",
        "    BookPath = \"Parasitology_book_2.txt\"\n",
        "    myParser.loadBook(BookPath)\n",
        "    app.run(debug=True, port=8080)"
      ]
    }
  ]
}